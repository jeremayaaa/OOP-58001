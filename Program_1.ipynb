{
  "nbformat": 4,
  "nbformat_minor": 0,
  "metadata": {
    "colab": {
      "name": "Program 1.ipynb",
      "provenance": [],
      "authorship_tag": "ABX9TyO28Ga89QuiR54w8B5dLnzi",
      "include_colab_link": true
    },
    "kernelspec": {
      "name": "python3",
      "display_name": "Python 3"
    },
    "language_info": {
      "name": "python"
    }
  },
  "cells": [
    {
      "cell_type": "markdown",
      "metadata": {
        "id": "view-in-github",
        "colab_type": "text"
      },
      "source": [
        "<a href=\"https://colab.research.google.com/github/jeremayaaa/OOP-58001/blob/main/Program_1.ipynb\" target=\"_parent\"><img src=\"https://colab.research.google.com/assets/colab-badge.svg\" alt=\"Open In Colab\"/></a>"
      ]
    },
    {
      "cell_type": "code",
      "execution_count": 6,
      "metadata": {
        "colab": {
          "base_uri": "https://localhost:8080/"
        },
        "id": "cYZUBNT0XqPP",
        "outputId": "c34627e0-a93b-4a71-a5df-86183b58717b"
      },
      "outputs": [
        {
          "output_type": "stream",
          "name": "stdout",
          "text": [
            "Enter the temperature in Celsius: 1\n",
            "274.15 Kelvin\n",
            "33.8 Fahrenheit\n"
          ]
        }
      ],
      "source": [
        "class TemperatureConversion:\n",
        "    def __init__(self, temp=1):\n",
        "        self.temp = temp\n",
        "\n",
        "class CelsiusToFahrenheit(TemperatureConversion):\n",
        "    def conversion(self):\n",
        "        return (self.temp * 9) / 5 + 32\n",
        "\n",
        "class CelsiusToKelvin(TemperatureConversion):\n",
        "    def conversion(self):\n",
        "        return self.temp + 273.15\n",
        "\n",
        "tempInCelsius = float(input(\"Enter the temperature in Celsius: \"))\n",
        "convert = CelsiusToKelvin(tempInCelsius)\n",
        "print(str(convert.conversion()) + \" Kelvin\")\n",
        "convert = CelsiusToFahrenheit(tempInCelsius)\n",
        "print(str(convert.conversion()) + \" Fahrenheit\")"
      ]
    }
  ]
}
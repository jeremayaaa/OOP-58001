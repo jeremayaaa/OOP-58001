{
  "nbformat": 4,
  "nbformat_minor": 0,
  "metadata": {
    "colab": {
      "name": "Program 1.ipynb",
      "provenance": [],
      "authorship_tag": "ABX9TyP/Zex088YFyZQJER/SwZTY",
      "include_colab_link": true
    },
    "kernelspec": {
      "name": "python3",
      "display_name": "Python 3"
    },
    "language_info": {
      "name": "python"
    }
  },
  "cells": [
    {
      "cell_type": "markdown",
      "metadata": {
        "id": "view-in-github",
        "colab_type": "text"
      },
      "source": [
        "<a href=\"https://colab.research.google.com/github/jeremayaaa/OOP-58001/blob/main/Program_1.ipynb\" target=\"_parent\"><img src=\"https://colab.research.google.com/assets/colab-badge.svg\" alt=\"Open In Colab\"/></a>"
      ]
    },
    {
      "cell_type": "markdown",
      "source": [
        "Modify the program below by adding two conversion methods - Fahrenheit to Celsius and Kelvin to Celsius"
      ],
      "metadata": {
        "id": "bCsm1swQsTUa"
      }
    },
    {
      "cell_type": "code",
      "execution_count": 10,
      "metadata": {
        "colab": {
          "base_uri": "https://localhost:8080/"
        },
        "id": "cYZUBNT0XqPP",
        "outputId": "dfd6c82e-d1f7-4de1-9304-75ef4b8865dd"
      },
      "outputs": [
        {
          "output_type": "stream",
          "name": "stdout",
          "text": [
            "Enter the temperature in Celsius: 15\n",
            "288.15 Kelvin\n",
            "59.0 Fahrenheit\n",
            "       \n",
            "Enter the temperature in Fahrenheit: 15\n",
            "-9.444444444444445 Celsius\n",
            "       \n",
            "Enter the temperature in Kelvin: 15\n",
            "-258.15 Celsius\n"
          ]
        }
      ],
      "source": [
        "class TemperatureConversion:\n",
        "    def __init__(self, temp=1):\n",
        "        self.temp = temp\n",
        "\n",
        "class CelsiusToFahrenheit(TemperatureConversion):\n",
        "    def conversion(self):\n",
        "        return (self.temp * 9) / 5 + 32\n",
        "\n",
        "class CelsiusToKelvin(TemperatureConversion):\n",
        "    def conversion(self):\n",
        "        return self.temp + 273.15\n",
        "\n",
        "tempInCelsius = float(input(\"Enter the temperature in Celsius: \"))\n",
        "convert = CelsiusToKelvin(tempInCelsius)\n",
        "print(str(convert.conversion()) + \" Kelvin\")\n",
        "convert = CelsiusToFahrenheit(tempInCelsius)\n",
        "print(str(convert.conversion()) + \" Fahrenheit\")\n",
        "print(\"       \")\n",
        "\n",
        "class FahrenheitToCelsius(TemperatureConversion):\n",
        "    def conversion(self):\n",
        "        return ((self.temp - 32) * 5 / 9)\n",
        "\n",
        "tempInFahrenheit = float(input(\"Enter the temperature in Fahrenheit: \"))\n",
        "convert = FahrenheitToCelsius(tempInFahrenheit)\n",
        "print(str(convert.conversion()) + \" Celsius\")\n",
        "print(\"       \")\n",
        "\n",
        "class KelvinToCelsius(TemperatureConversion):\n",
        "    def conversion(self):\n",
        "        return (self.temp - 273.15) \n",
        "\n",
        "tempInKelvin = float(input(\"Enter the temperature in Kelvin: \"))\n",
        "convert = KelvinToCelsius(tempInKelvin)\n",
        "print(str(convert.conversion()) + \" Celsius\")"
      ]
    }
  ]
}
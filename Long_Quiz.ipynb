{
  "nbformat": 4,
  "nbformat_minor": 0,
  "metadata": {
    "colab": {
      "name": "Long Quiz.ipynb",
      "provenance": [],
      "collapsed_sections": [],
      "authorship_tag": "ABX9TyMMxZ/8+zChlxYC8YTUUTNL",
      "include_colab_link": true
    },
    "kernelspec": {
      "name": "python3",
      "display_name": "Python 3"
    },
    "language_info": {
      "name": "python"
    }
  },
  "cells": [
    {
      "cell_type": "markdown",
      "metadata": {
        "id": "view-in-github",
        "colab_type": "text"
      },
      "source": [
        "<a href=\"https://colab.research.google.com/github/jeremayaaa/OOP-58001/blob/main/Long_Quiz.ipynb\" target=\"_parent\"><img src=\"https://colab.research.google.com/assets/colab-badge.svg\" alt=\"Open In Colab\"/></a>"
      ]
    },
    {
      "cell_type": "markdown",
      "source": [
        "Write a Python program that asks the user to enter the radius of a circle and solve its area and perimeter."
      ],
      "metadata": {
        "id": "Y6TTpiC0GoVy"
      }
    },
    {
      "cell_type": "code",
      "execution_count": 9,
      "metadata": {
        "colab": {
          "base_uri": "https://localhost:8080/"
        },
        "id": "4wCY0dVrGjOZ",
        "outputId": "cadd646d-6580-4af1-e31f-644841c69ff3"
      },
      "outputs": [
        {
          "output_type": "stream",
          "name": "stdout",
          "text": [
            "Enter the radius: 3\n",
            "The area of the circle is 28.26\n",
            "The perimeter of the circle is 18.84\n"
          ]
        }
      ],
      "source": [
        "class Circle():\n",
        "  def __init__(self,radius,pi):\n",
        "    self.radius = int(input(\"Enter the radius: \"))\n",
        "    self.pi = pi\n",
        "    \n",
        "  def area(self):\n",
        "    return self.radius * self.radius * self.pi\n",
        "\n",
        "  def perimeter(self):\n",
        "    return 2 * self.radius * self.pi\n",
        "\n",
        "  def display(self):\n",
        "    print(\"The area of the circle is\", self.area())\n",
        "    print(\"The perimeter of the circle is\", self.perimeter())\n",
        "\n",
        "circle = Circle(input,3.14)\n",
        "circle.display()"
      ]
    }
  ]
}
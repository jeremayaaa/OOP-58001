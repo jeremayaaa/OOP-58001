{
  "nbformat": 4,
  "nbformat_minor": 0,
  "metadata": {
    "colab": {
      "name": "GUI Application.ipynb",
      "provenance": [],
      "authorship_tag": "ABX9TyNVBXir4FtM4s4IzRzNKQhO",
      "include_colab_link": true
    },
    "kernelspec": {
      "name": "python3",
      "display_name": "Python 3"
    },
    "language_info": {
      "name": "python"
    }
  },
  "cells": [
    {
      "cell_type": "markdown",
      "metadata": {
        "id": "view-in-github",
        "colab_type": "text"
      },
      "source": [
        "<a href=\"https://colab.research.google.com/github/jeremayaaa/OOP-58001/blob/main/GUI_Application.ipynb\" target=\"_parent\"><img src=\"https://colab.research.google.com/assets/colab-badge.svg\" alt=\"Open In Colab\"/></a>"
      ]
    },
    {
      "cell_type": "markdown",
      "source": [
        "Create a Python program that displays the grades of the students in OOP"
      ],
      "metadata": {
        "id": "KTFG4JiP6Ut9"
      }
    },
    {
      "cell_type": "code",
      "source": [
        "Student_Name = \"Jeremiah Manalang\" #@param {type:\"string\"}\n",
        "prelim = 93 #@param {type:\"number\"}\n",
        "midterms = 96 #@param {type:\"number\"}\n",
        "finals = 98 #@param {type:\"number\"}\n",
        "semestral = (prelim*0.3 + midterms*0.3 + finals*0.4)\n",
        "\n",
        "print(\"Student Name: \" + Student_Name)\n",
        "print(\"Semestral Grade: \" + str(semestral))"
      ],
      "metadata": {
        "colab": {
          "base_uri": "https://localhost:8080/"
        },
        "id": "i8xFjNRy6qTA",
        "outputId": "c8b815d7-dd7a-414e-8345-bd73b7090eff"
      },
      "execution_count": 4,
      "outputs": [
        {
          "output_type": "stream",
          "name": "stdout",
          "text": [
            "Student Name: Jeremiah Manalang\n",
            "Semestral Grade: 95.9\n"
          ]
        }
      ]
    },
    {
      "cell_type": "code",
      "source": [
        "gender = \"Female\" #@param [\"Male\", \"Female\"]\n",
        "birthdate = \"November 23, 2001\" #@param {type:\"date\"}\n",
        "\n",
        "print(\"My gender is \" + gender)\n",
        "print(\"My birthday is on \" + birthdate)"
      ],
      "metadata": {
        "colab": {
          "base_uri": "https://localhost:8080/"
        },
        "id": "1dpZE-pI8AJ1",
        "outputId": "5ba51a0e-df89-41c8-e75a-1c58b7c32216"
      },
      "execution_count": 5,
      "outputs": [
        {
          "output_type": "stream",
          "name": "stdout",
          "text": [
            "My gender is Female\n",
            "My birthday is on November 23, 2001\n"
          ]
        }
      ]
    }
  ]
}
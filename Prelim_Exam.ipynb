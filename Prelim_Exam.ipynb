{
  "nbformat": 4,
  "nbformat_minor": 0,
  "metadata": {
    "colab": {
      "name": "Prelim Exam.ipynb",
      "provenance": [],
      "collapsed_sections": [],
      "authorship_tag": "ABX9TyPLHtiZwlwKSUpPV7Odwt70",
      "include_colab_link": true
    },
    "kernelspec": {
      "name": "python3",
      "display_name": "Python 3"
    },
    "language_info": {
      "name": "python"
    }
  },
  "cells": [
    {
      "cell_type": "markdown",
      "metadata": {
        "id": "view-in-github",
        "colab_type": "text"
      },
      "source": [
        "<a href=\"https://colab.research.google.com/github/jeremayaaa/OOP-58001/blob/main/Prelim_Exam.ipynb\" target=\"_parent\"><img src=\"https://colab.research.google.com/assets/colab-badge.svg\" alt=\"Open In Colab\"/></a>"
      ]
    },
    {
      "cell_type": "markdown",
      "source": [
        "Examine the program below and create an appropriate flowchart"
      ],
      "metadata": {
        "id": "juXlJKaSE6Jq"
      }
    },
    {
      "cell_type": "code",
      "execution_count": 2,
      "metadata": {
        "colab": {
          "base_uri": "https://localhost:8080/"
        },
        "id": "jwG2aH8tE1I_",
        "outputId": "0d1c7118-0fa7-4f08-8f29-aa9f3403f005"
      },
      "outputs": [
        {
          "output_type": "stream",
          "name": "stdout",
          "text": [
            "sum = 20\n",
            "sum = 39\n",
            "sum = 57\n",
            "sum = 74\n",
            "sum = 90\n",
            "sum = 105\n",
            "sum = 119\n",
            "sum = 132\n",
            "sum = 144\n",
            "sum = 155\n",
            "sum = 165\n",
            "sum = 174\n",
            "sum = 182\n",
            "sum = 189\n",
            "sum = 195\n",
            "sum = 200\n",
            "sum = 204\n",
            "sum = 207\n",
            "sum = 209\n",
            "sum = 210\n",
            "sum = 210\n",
            "Average =  10.5\n"
          ]
        }
      ],
      "source": [
        "n = 20\n",
        "total_numbers = n\n",
        "sum = 0\n",
        "\n",
        "while n >= 0:\n",
        "  sum += n\n",
        "  n -= 1\n",
        "  print(\"sum =\", sum)\n",
        "\n",
        "average = sum / total_numbers\n",
        "print(\"Average = \", average)"
      ]
    },
    {
      "cell_type": "markdown",
      "source": [
        "Write a Python program that displays your full name, student number, age, and course"
      ],
      "metadata": {
        "id": "Duky9QOvNMN7"
      }
    },
    {
      "cell_type": "code",
      "source": [
        "class Student():\n",
        "  def __init__(self, fullname, studentnumber, age, course):\n",
        "    self.fullname = fullname\n",
        "    self.studentnumber = studentnumber\n",
        "    self.age = age\n",
        "    self.course = course\n",
        "\n",
        "  def name(self):\n",
        "    return self.fullname\n",
        "\n",
        "  def number(self):\n",
        "    return self.studentnumber\n",
        "\n",
        "  def ageko(self):\n",
        "    return self.age\n",
        "\n",
        "  def courseko(self):\n",
        "    return self.course \n",
        "\n",
        "  def display(self):\n",
        "    print(\"My Full Name is\", self.name())\n",
        "    print(\"My Student Number is\", self.number())\n",
        "    print(\"My Age is\", self.ageko())\n",
        "    print(\"My Course is\", self.courseko())\n",
        "\n",
        "myself = Student(\"Jeremiah Manalang\", \"202010993\", \"20\", \"Computer Engineering\")\n",
        "myself.display()"
      ],
      "metadata": {
        "colab": {
          "base_uri": "https://localhost:8080/"
        },
        "id": "h80OuOkSKKbh",
        "outputId": "66322ffc-8bbe-4c4a-fd48-da9a6de8ce8e"
      },
      "execution_count": 16,
      "outputs": [
        {
          "output_type": "stream",
          "name": "stdout",
          "text": [
            "My Full Name is Jeremiah Manalang\n",
            "My Student Number is 202010993\n",
            "My Age is 20\n",
            "My Course is Computer Engineering\n"
          ]
        }
      ]
    }
  ]
}
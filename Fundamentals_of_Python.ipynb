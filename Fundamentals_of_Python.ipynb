{
  "nbformat": 4,
  "nbformat_minor": 0,
  "metadata": {
    "colab": {
      "name": "Fundamentals of Python.ipynb",
      "provenance": [],
      "collapsed_sections": [],
      "authorship_tag": "ABX9TyP0+SzWbhbYMevkw45oUCOV",
      "include_colab_link": true
    },
    "kernelspec": {
      "name": "python3",
      "display_name": "Python 3"
    },
    "language_info": {
      "name": "python"
    }
  },
  "cells": [
    {
      "cell_type": "markdown",
      "metadata": {
        "id": "view-in-github",
        "colab_type": "text"
      },
      "source": [
        "<a href=\"https://colab.research.google.com/github/jeremayaaa/OOP-58001/blob/main/Fundamentals_of_Python.ipynb\" target=\"_parent\"><img src=\"https://colab.research.google.com/assets/colab-badge.svg\" alt=\"Open In Colab\"/></a>"
      ]
    },
    {
      "cell_type": "markdown",
      "source": [
        "#Fundamentals of Python\n",
        "Python Variables"
      ],
      "metadata": {
        "id": "DY6xL4fej82D"
      }
    },
    {
      "cell_type": "code",
      "source": [
        "x = float(1)\n",
        "a,b = 0,1\n",
        "a,b,c = \"Sally\", \"John\", \"Ana\"\n",
        "\n",
        "print ('This is sample')\n",
        "print (a)\n",
        "print(c)"
      ],
      "metadata": {
        "colab": {
          "base_uri": "https://localhost:8080/"
        },
        "id": "pnYUMffakD9j",
        "outputId": "d6ee8397-d211-4e9c-f8a6-3b21ffbf60f1"
      },
      "execution_count": 2,
      "outputs": [
        {
          "output_type": "stream",
          "name": "stdout",
          "text": [
            "This is sample\n",
            "Sally\n",
            "Ana\n"
          ]
        }
      ]
    },
    {
      "cell_type": "markdown",
      "source": [
        "Casting"
      ],
      "metadata": {
        "id": "bWh_ypZumUUa"
      }
    },
    {
      "cell_type": "code",
      "source": [
        "print (x)"
      ],
      "metadata": {
        "colab": {
          "base_uri": "https://localhost:8080/"
        },
        "id": "AMYW14PZmWgi",
        "outputId": "313c50ed-ab57-4565-f278-ad2e92625b45"
      },
      "execution_count": 3,
      "outputs": [
        {
          "output_type": "stream",
          "name": "stdout",
          "text": [
            "1\n"
          ]
        }
      ]
    },
    {
      "cell_type": "markdown",
      "source": [
        "Type() Function"
      ],
      "metadata": {
        "id": "D-WOxrRZmsbE"
      }
    },
    {
      "cell_type": "code",
      "source": [
        "y = \"Johnny\"\n",
        "print (type(y))\n",
        "print (type(x))"
      ],
      "metadata": {
        "colab": {
          "base_uri": "https://localhost:8080/"
        },
        "id": "3-ixzZ2wmuEe",
        "outputId": "1f2c68d7-06ee-4cba-e3d9-091aded5d3fa"
      },
      "execution_count": 8,
      "outputs": [
        {
          "output_type": "stream",
          "name": "stdout",
          "text": [
            "<class 'str'>\n",
            "<class 'int'>\n"
          ]
        }
      ]
    },
    {
      "cell_type": "markdown",
      "source": [
        "Double Quotes and Single Quotes"
      ],
      "metadata": {
        "id": "ZHlsWB01n8jV"
      }
    },
    {
      "cell_type": "code",
      "source": [
        "#h = \"Maria\"\n",
        "h = 'Maria'\n",
        "v=1\n",
        "\n",
        "print (h)\n",
        "print (v+1)"
      ],
      "metadata": {
        "colab": {
          "base_uri": "https://localhost:8080/"
        },
        "id": "QEhS8Vs6oAaq",
        "outputId": "04752ca1-9fe2-46c4-a367-fedd455c112c"
      },
      "execution_count": 10,
      "outputs": [
        {
          "output_type": "stream",
          "name": "stdout",
          "text": [
            "Maria\n",
            "2\n"
          ]
        }
      ]
    },
    {
      "cell_type": "markdown",
      "source": [
        "Multiple Variables"
      ],
      "metadata": {
        "id": "CHQ-deZwpmuS"
      }
    },
    {
      "cell_type": "code",
      "source": [
        "x,y,z = \"one\", \"two\", \"three\"\n",
        "\n",
        "print (x)\n",
        "print (y)\n",
        "print (z)\n",
        "print (x,y,z)"
      ],
      "metadata": {
        "colab": {
          "base_uri": "https://localhost:8080/"
        },
        "id": "D6nhgetipptp",
        "outputId": "cf4446ac-b5e1-4df3-af5f-f479e2af9fc0"
      },
      "execution_count": 13,
      "outputs": [
        {
          "output_type": "stream",
          "name": "stdout",
          "text": [
            "one\n",
            "two\n",
            "three\n",
            "one two three\n"
          ]
        }
      ]
    },
    {
      "cell_type": "markdown",
      "source": [
        "One Value to Multiple Value"
      ],
      "metadata": {
        "id": "EuhVqCqrqtK_"
      }
    },
    {
      "cell_type": "code",
      "source": [
        "x = y = z = \"Stella\"\n",
        "\n",
        "print (y)"
      ],
      "metadata": {
        "colab": {
          "base_uri": "https://localhost:8080/"
        },
        "id": "h_TzPm8Tqv5p",
        "outputId": "cb34922b-5f50-4e4e-9cb8-a96839028bc9"
      },
      "execution_count": 14,
      "outputs": [
        {
          "output_type": "stream",
          "name": "stdout",
          "text": [
            "Stella\n"
          ]
        }
      ]
    },
    {
      "cell_type": "markdown",
      "source": [
        "Output Variable"
      ],
      "metadata": {
        "id": "oiESU5ZJrouX"
      }
    },
    {
      "cell_type": "code",
      "source": [
        "x = \"enjoying\"\n",
        "y = \"Python is\"\n",
        "\n",
        "print (y + \" \" + x)"
      ],
      "metadata": {
        "colab": {
          "base_uri": "https://localhost:8080/"
        },
        "id": "_WabNMwfrq_S",
        "outputId": "97e658f5-ceea-402a-8229-f1df8b3c42c5"
      },
      "execution_count": 15,
      "outputs": [
        {
          "output_type": "stream",
          "name": "stdout",
          "text": [
            "Python is enjoying\n"
          ]
        }
      ]
    },
    {
      "cell_type": "markdown",
      "source": [
        "Arithmetic Operations"
      ],
      "metadata": {
        "id": "tdHgChHrtxmR"
      }
    },
    {
      "cell_type": "code",
      "source": [
        "f = 1\n",
        "g = 2\n",
        "i = 6\n",
        "\n",
        "print (f + g)\n",
        "print (f - g)\n",
        "print (f * g)\n",
        "print (int(f/g))\n",
        "print (3/g)\n",
        "print (3%g)\n",
        "print (3//g)"
      ],
      "metadata": {
        "colab": {
          "base_uri": "https://localhost:8080/"
        },
        "id": "VIH7Skz-t0Nd",
        "outputId": "9c87168f-08d5-4be3-cdbb-35739fa34bae"
      },
      "execution_count": 16,
      "outputs": [
        {
          "output_type": "stream",
          "name": "stdout",
          "text": [
            "3\n",
            "-1\n",
            "2\n",
            "0\n",
            "1.5\n",
            "1\n",
            "1\n"
          ]
        }
      ]
    },
    {
      "cell_type": "markdown",
      "source": [
        "Assignments Operator"
      ],
      "metadata": {
        "id": "u2oA42Utx1ct"
      }
    },
    {
      "cell_type": "code",
      "source": [
        "k = 2\n",
        "k += 3\n",
        "\n",
        "print (k)\n",
        "print (k>>2)\n",
        "\n",
        "s =2\n",
        "s*=5\n",
        "\n",
        "print (s)"
      ],
      "metadata": {
        "colab": {
          "base_uri": "https://localhost:8080/"
        },
        "id": "h7Kdmr69yKfi",
        "outputId": "09af33c7-b1b8-4a30-dc2e-95890c00dba1"
      },
      "execution_count": 20,
      "outputs": [
        {
          "output_type": "stream",
          "name": "stdout",
          "text": [
            "5\n",
            "1\n",
            "10\n"
          ]
        }
      ]
    },
    {
      "cell_type": "markdown",
      "source": [
        "Relational Operators"
      ],
      "metadata": {
        "id": "kX2I6b_70bK8"
      }
    },
    {
      "cell_type": "code",
      "source": [
        "print (v>s)\n",
        "print (v==s)"
      ],
      "metadata": {
        "colab": {
          "base_uri": "https://localhost:8080/"
        },
        "id": "Poz6Vvw40cgG",
        "outputId": "0f612a08-6738-4ccf-d17e-dfb74d30112c"
      },
      "execution_count": 21,
      "outputs": [
        {
          "output_type": "stream",
          "name": "stdout",
          "text": [
            "False\n"
          ]
        }
      ]
    },
    {
      "cell_type": "markdown",
      "source": [
        "Logical Operators"
      ],
      "metadata": {
        "id": "QFqXoONc1PH1"
      }
    },
    {
      "cell_type": "code",
      "source": [
        "print (v<s and s==s) #true\n",
        "print (v<s or s==v) #true\n",
        "print (not(v<s or s==v)) #true"
      ],
      "metadata": {
        "colab": {
          "base_uri": "https://localhost:8080/"
        },
        "id": "UQQFPqTI1QaL",
        "outputId": "57e9e917-71c0-47d6-99be-4307017442e5"
      },
      "execution_count": 23,
      "outputs": [
        {
          "output_type": "stream",
          "name": "stdout",
          "text": [
            "True\n",
            "True\n",
            "False\n"
          ]
        }
      ]
    },
    {
      "cell_type": "markdown",
      "source": [
        "identify Operators"
      ],
      "metadata": {
        "id": "b6JQFkH52IWw"
      }
    },
    {
      "cell_type": "code",
      "source": [
        "print (v is s)\n",
        "print (v is not s)"
      ],
      "metadata": {
        "colab": {
          "base_uri": "https://localhost:8080/"
        },
        "id": "AwRqvw8A2KSi",
        "outputId": "b3d477db-19ab-45ec-c350-9e7c36b1fd69"
      },
      "execution_count": 25,
      "outputs": [
        {
          "output_type": "stream",
          "name": "stdout",
          "text": [
            "False\n",
            "True\n"
          ]
        }
      ]
    }
  ]
}
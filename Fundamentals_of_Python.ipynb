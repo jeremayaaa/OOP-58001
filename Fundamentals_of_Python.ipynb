{
  "nbformat": 4,
  "nbformat_minor": 0,
  "metadata": {
    "colab": {
      "name": "Fundamentals of Python.ipynb",
      "provenance": [],
      "collapsed_sections": [],
      "authorship_tag": "ABX9TyNbC6bqA4I4rqO7MXsdulhk",
      "include_colab_link": true
    },
    "kernelspec": {
      "name": "python3",
      "display_name": "Python 3"
    },
    "language_info": {
      "name": "python"
    }
  },
  "cells": [
    {
      "cell_type": "markdown",
      "metadata": {
        "id": "view-in-github",
        "colab_type": "text"
      },
      "source": [
        "<a href=\"https://colab.research.google.com/github/jeremayaaa/OOP-58001/blob/main/Fundamentals_of_Python.ipynb\" target=\"_parent\"><img src=\"https://colab.research.google.com/assets/colab-badge.svg\" alt=\"Open In Colab\"/></a>"
      ]
    },
    {
      "cell_type": "markdown",
      "source": [
        "#Fundamentals of Python\n",
        "Python Variables"
      ],
      "metadata": {
        "id": "DY6xL4fej82D"
      }
    },
    {
      "cell_type": "code",
      "source": [
        "x = float(1)\n",
        "a,b = 0,1\n",
        "a,b,c = \"Sally\", \"John\", \"Ana\"\n",
        "\n",
        "print ('This is sample')\n",
        "print (a)\n",
        "print(c)"
      ],
      "metadata": {
        "colab": {
          "base_uri": "https://localhost:8080/"
        },
        "id": "pnYUMffakD9j",
        "outputId": "d6ee8397-d211-4e9c-f8a6-3b21ffbf60f1"
      },
      "execution_count": 2,
      "outputs": [
        {
          "output_type": "stream",
          "name": "stdout",
          "text": [
            "This is sample\n",
            "Sally\n",
            "Ana\n"
          ]
        }
      ]
    },
    {
      "cell_type": "markdown",
      "source": [
        "Casting"
      ],
      "metadata": {
        "id": "bWh_ypZumUUa"
      }
    },
    {
      "cell_type": "code",
      "source": [
        "print (x)"
      ],
      "metadata": {
        "colab": {
          "base_uri": "https://localhost:8080/"
        },
        "id": "AMYW14PZmWgi",
        "outputId": "313c50ed-ab57-4565-f278-ad2e92625b45"
      },
      "execution_count": 3,
      "outputs": [
        {
          "output_type": "stream",
          "name": "stdout",
          "text": [
            "1\n"
          ]
        }
      ]
    },
    {
      "cell_type": "markdown",
      "source": [
        "Type() Function"
      ],
      "metadata": {
        "id": "D-WOxrRZmsbE"
      }
    },
    {
      "cell_type": "code",
      "source": [
        "y = \"Johnny\"\n",
        "print (type(y))\n",
        "print (type(x))"
      ],
      "metadata": {
        "colab": {
          "base_uri": "https://localhost:8080/"
        },
        "id": "3-ixzZ2wmuEe",
        "outputId": "1f2c68d7-06ee-4cba-e3d9-091aded5d3fa"
      },
      "execution_count": 8,
      "outputs": [
        {
          "output_type": "stream",
          "name": "stdout",
          "text": [
            "<class 'str'>\n",
            "<class 'int'>\n"
          ]
        }
      ]
    },
    {
      "cell_type": "markdown",
      "source": [
        "Double Quotes and Single Quotes"
      ],
      "metadata": {
        "id": "ZHlsWB01n8jV"
      }
    },
    {
      "cell_type": "code",
      "source": [
        "#h = \"Maria\"\n",
        "h = 'Maria'\n",
        "v=1\n",
        "\n",
        "print (h)\n",
        "print (v+1)"
      ],
      "metadata": {
        "colab": {
          "base_uri": "https://localhost:8080/"
        },
        "id": "QEhS8Vs6oAaq",
        "outputId": "04752ca1-9fe2-46c4-a367-fedd455c112c"
      },
      "execution_count": 10,
      "outputs": [
        {
          "output_type": "stream",
          "name": "stdout",
          "text": [
            "Maria\n",
            "2\n"
          ]
        }
      ]
    },
    {
      "cell_type": "markdown",
      "source": [
        "Multiple Variables"
      ],
      "metadata": {
        "id": "CHQ-deZwpmuS"
      }
    },
    {
      "cell_type": "code",
      "source": [
        "x,y,z = \"one\", \"two\", \"three\"\n",
        "\n",
        "print (x)\n",
        "print (y)\n",
        "print (z)\n",
        "print (x,y,z)"
      ],
      "metadata": {
        "colab": {
          "base_uri": "https://localhost:8080/"
        },
        "id": "D6nhgetipptp",
        "outputId": "cf4446ac-b5e1-4df3-af5f-f479e2af9fc0"
      },
      "execution_count": 13,
      "outputs": [
        {
          "output_type": "stream",
          "name": "stdout",
          "text": [
            "one\n",
            "two\n",
            "three\n",
            "one two three\n"
          ]
        }
      ]
    },
    {
      "cell_type": "markdown",
      "source": [
        "One Value to Multiple Value"
      ],
      "metadata": {
        "id": "EuhVqCqrqtK_"
      }
    },
    {
      "cell_type": "code",
      "source": [
        "x = y = z = \"Stella\"\n",
        "\n",
        "print (y)"
      ],
      "metadata": {
        "colab": {
          "base_uri": "https://localhost:8080/"
        },
        "id": "h_TzPm8Tqv5p",
        "outputId": "cb34922b-5f50-4e4e-9cb8-a96839028bc9"
      },
      "execution_count": 14,
      "outputs": [
        {
          "output_type": "stream",
          "name": "stdout",
          "text": [
            "Stella\n"
          ]
        }
      ]
    },
    {
      "cell_type": "markdown",
      "source": [
        "Output Variable"
      ],
      "metadata": {
        "id": "oiESU5ZJrouX"
      }
    },
    {
      "cell_type": "code",
      "source": [
        "x = \"enjoying\"\n",
        "y = \"Python is\"\n",
        "\n",
        "print (y + \" \" + x)"
      ],
      "metadata": {
        "colab": {
          "base_uri": "https://localhost:8080/"
        },
        "id": "_WabNMwfrq_S",
        "outputId": "97e658f5-ceea-402a-8229-f1df8b3c42c5"
      },
      "execution_count": 15,
      "outputs": [
        {
          "output_type": "stream",
          "name": "stdout",
          "text": [
            "Python is enjoying\n"
          ]
        }
      ]
    }
  ]
}